{
 "cells": [
  {
   "cell_type": "markdown",
   "metadata": {},
   "source": [
    "Per visualizzare i grafici, eseguire da menu \"Run → Run All Cells\""
   ]
  },
  {
   "cell_type": "markdown",
   "metadata": {},
   "source": [
    "# Trave isostatica con carico distribuito\n",
    "\n",
    "Lo scopo di questo esercizio è di valutare l'effetto della posizione degli appoggi sui diagrammi di taglio e momento per una trave sottoposta ad un carico distribuito costante $p$."
   ]
  },
  {
   "cell_type": "code",
   "execution_count": null,
   "metadata": {
    "jupyter": {
     "outputs_hidden": true,
     "source_hidden": true
    },
    "tags": []
   },
   "outputs": [],
   "source": [
    "import holoviews as hv\n",
    "import numpy as np\n",
    "\n",
    "hv.extension(\"bokeh\")\n",
    "print(hv.__name__, hv.__version__)\n",
    "print(np.__name__, np.__version__)"
   ]
  },
  {
   "cell_type": "code",
   "execution_count": null,
   "metadata": {
    "jupyter": {
     "source_hidden": true
    }
   },
   "outputs": [],
   "source": [
    "# holoviews settings and global config\n",
    "pcolor = hv.Cycle([\"red\", \"orange\"])\n",
    "dt = hv.Dimension(\"T\", range=(-0.5, 0.5), label=\"T/(pL)\")\n",
    "dm = hv.Dimension(\"M\", range=(-1 / 8, 1 / 8), label=\"M/(pL^2)\")\n",
    "dx = hv.Dimension(\"x\", range=(0, 1), label=\"x/L\")\n",
    "\n",
    "%opts Area [height=200 width=600 show_grid=True] (line_width=1.5 fill_color='cornflowerblue')\n",
    "%opts Points (color=pcolor, size=5)\n",
    "%opts Curve [height=150 width=600, show_grid=True, tools=[\"crosshair\"]] (color=pcolor)\n",
    "%opts Layout (tools=[\"crosshair\"])"
   ]
  },
  {
   "cell_type": "code",
   "execution_count": null,
   "metadata": {
    "jupyter": {
     "source_hidden": true
    }
   },
   "outputs": [],
   "source": [
    "def tg(a):\n",
    "    \"\"\"crea il diagramma del taglio in funzione della posizione a dell'appoggio\"\"\"\n",
    "    assert 0 <= a <= 0.5\n",
    "    x1 = np.linspace(start=0, stop=a, endpoint=True)\n",
    "    t1 = -x1\n",
    "    m1 = x1**2 / 2\n",
    "    x2 = np.linspace(start=0, stop=0.5 - a, endpoint=True)\n",
    "    t2 = t1[-1] + 0.5 - x2\n",
    "    m2 = m1[-1] - (t1[-1] + 0.5) * x2 + x2**2 / 2\n",
    "    return (\n",
    "        hv.Area((x1, -t1), dx, dt)\n",
    "        * hv.Area((a + x2, -t2))\n",
    "        * hv.Area((1 - a - x2, t2))\n",
    "        * hv.Area((1 - x1, t1))\n",
    "    )"
   ]
  },
  {
   "cell_type": "code",
   "execution_count": null,
   "metadata": {
    "jupyter": {
     "source_hidden": true
    }
   },
   "outputs": [],
   "source": [
    "def mf(a):\n",
    "    \"\"\"crea il diagramma del momento flettente in funzione della posizione a dell'appoggio\"\"\"\n",
    "    assert 0 <= a <= 0.5\n",
    "    x1 = np.linspace(start=0, stop=a, endpoint=True)\n",
    "    t1 = -x1\n",
    "    m1 = x1**2 / 2\n",
    "    x2 = np.linspace(start=0, stop=0.5 - a, endpoint=True)\n",
    "    t2 = t1[-1] + 0.5 - x2\n",
    "    m2 = m1[-1] - t2[0] * x2 + x2**2 / 2\n",
    "    return (\n",
    "        hv.Area((x1, m1), dx, dm)\n",
    "        * hv.Area((a + x2, m2))\n",
    "        * hv.Area((1 - a - x2, m2))\n",
    "        * hv.Area((1 - x1, m1))\n",
    "        * hv.Points((a, a**2 / 2))  # .opts(color=\"red\", size=5)\n",
    "        * hv.Points((0.5, (a - 1 / 4) / 2))  # .opts(color=\"red\", size=5)\n",
    "    )"
   ]
  },
  {
   "cell_type": "code",
   "execution_count": null,
   "metadata": {
    "jupyter": {
     "source_hidden": true
    }
   },
   "outputs": [],
   "source": [
    "# diagramma del momento flettente in A e B in funzione della posizioen degli appoggi\n",
    "\n",
    "\n",
    "def pta(x):\n",
    "    return x**2 / 2\n",
    "\n",
    "\n",
    "def ptc(x):\n",
    "    return (x - 1 / 4) / 2\n",
    "\n",
    "\n",
    "def diag(a):\n",
    "    x = np.linspace(0, 1 / 2)\n",
    "    return (\n",
    "        hv.Curve((x, pta(x)), dx, dm)\n",
    "        * hv.Curve((x, ptc(x)), dx, dm)\n",
    "        * hv.Points((a, pta(a)))\n",
    "        * hv.Points((a, ptc(a)))\n",
    "    )\n",
    "\n",
    "\n",
    "def diag_abs(a):\n",
    "    x = np.linspace(0, 1 / 2, 400)\n",
    "    return (\n",
    "        hv.Curve((x, pta(x)), dx, dm)\n",
    "        * hv.Curve((x, abs(ptc(x))), dx, dm)\n",
    "        * hv.Points((a, pta(a)))\n",
    "        * hv.Points((a, abs(ptc(a))))\n",
    "    ).redim.range(M=(0, 1 / 8))"
   ]
  },
  {
   "cell_type": "code",
   "execution_count": null,
   "metadata": {
    "jupyter": {
     "source_hidden": true
    },
    "tags": []
   },
   "outputs": [],
   "source": [
    "hv.DynamicMap(lambda a: (tg(a) + mf(a) + diag(a)).cols(1), kdims=[\"a\"]).redim.values(\n",
    "    a=np.linspace(0, 0.5, 201)\n",
    ")"
   ]
  },
  {
   "cell_type": "code",
   "execution_count": null,
   "metadata": {
    "jupyter": {
     "source_hidden": true
    },
    "tags": []
   },
   "outputs": [],
   "source": [
    "%%opts Curve [height=300 width=600, show_grid=True]\n",
    "hv.DynamicMap(\n",
    "    lambda a: (tg(a) + mf(a) + diag_abs(a)).cols(1), kdims=[\"a\"]\n",
    ").redim.values(a=np.linspace(0, 0.5, 201))"
   ]
  },
  {
   "cell_type": "markdown",
   "metadata": {},
   "source": [
    "La soluzione ottimale è\n",
    "\\begin{align}\n",
    "\\frac{a}{L} &= \\frac{\\sqrt2 - 1}{2} \\approx 0.2071 \\dots \\\\\n",
    "\\frac{\\lvert M_\\max \\rvert}{\\frac 18 pL^2} &= {3 - 2\\sqrt{2}} \\approx 0.17157\\dots\n",
    "\\end{align}"
   ]
  },
  {
   "cell_type": "code",
   "execution_count": null,
   "metadata": {
    "jupyter": {
     "source_hidden": true
    }
   },
   "outputs": [],
   "source": []
  }
 ],
 "metadata": {
  "kernelspec": {
   "display_name": "BigData_310",
   "language": "python",
   "name": "bigdata_310"
  },
  "language_info": {
   "codemirror_mode": {
    "name": "ipython",
    "version": 3
   },
   "file_extension": ".py",
   "mimetype": "text/x-python",
   "name": "python",
   "nbconvert_exporter": "python",
   "pygments_lexer": "ipython3",
   "version": "3.10.1"
  }
 },
 "nbformat": 4,
 "nbformat_minor": 4
}
